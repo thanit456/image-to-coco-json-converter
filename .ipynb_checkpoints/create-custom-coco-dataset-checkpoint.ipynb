{
 "cells": [
  {
   "cell_type": "code",
   "execution_count": 3,
   "metadata": {},
   "outputs": [],
   "source": [
    "from create_annotations import *\n",
    "\n",
    "# Define which colors match which categories in the images\n",
    "# category_ids = {\n",
    "#     '(0, 0, 0)': 0, # Outlier\n",
    "#     '(255, 0, 0)': 1, # Window\n",
    "#     '(255, 255, 0)': 2, # Wall\n",
    "#     '(128, 0, 255)': 3, # Balcony\n",
    "#     '(255, 128, 0)': 4, # Door\n",
    "#     '(0, 0, 255)': 5, # Roof\n",
    "#     '(128, 255, 255)': 6, # Sky\n",
    "#     '(0, 255, 0)': 7, # Shop\n",
    "#     '(128, 128, 128)': 8 # Chimney\n",
    "# }\n",
    "category_ids = {\n",
    "    '0': 0, # background\n",
    "    '85': 1, # point \n",
    "    '170': 2, # line\n",
    "    '255': 3 # scatter\n",
    "}\n",
    "\n",
    "# Get 'images' and 'annotations' info \n",
    "def images_annotations_info(maskpath):\n",
    "    # This id will be automatically increased as we go\n",
    "    annotation_id = 1\n",
    "\n",
    "    annotations = []\n",
    "    images = []\n",
    "    \n",
    "    # Get absolute paths of all files in a directory\n",
    "    mask_images = absolute_file_paths(maskpath)\n",
    "    \n",
    "    for image_id, mask_image in enumerate(mask_images, 1):\n",
    "#         file_name = os.path.basename(mask_image).split('.')[0] + \".jpg\"\n",
    "        file_name = os.path.basename(mask_image).split('.')[0] + \".png\"\n",
    "\n",
    "        # image shape\n",
    "        mask_image_open = Image.open(mask_image)\n",
    "        w, h = mask_image_open.size\n",
    "        \n",
    "        # 'images' info \n",
    "        image = create_image_annotation(file_name, w, h, image_id)\n",
    "        images.append(image)\n",
    "\n",
    "#         sub_masks = create_sub_masks(mask_image_open, w, h)\n",
    "        ## create sub_mask\n",
    "        sub_masks = {}\n",
    "        for x in range(w):\n",
    "            for y in range(h):\n",
    "                pixel = mask_image_open.getpixel((x, y))\n",
    "                if pixel != 0: \n",
    "                    pixel_str = str(pixel)\n",
    "                    sub_mask = sub_masks.get(pixel_str)\n",
    "                    if sub_mask is None:\n",
    "                        sub_masks[pixel_str] = Image.new('1', (w+2, h+2))\n",
    "                    sub_masks[pixel_str].putpixel((x+1, y+1), 1)\n",
    "                    \n",
    "                    \n",
    "        for color, sub_mask in sub_masks.items():\n",
    "#             print(f'color: {color}')\n",
    "            category_id = category_ids[color]\n",
    "\n",
    "            # 'annotations' info\n",
    "            polygons, segmentations = create_sub_mask_annotation(sub_mask)\n",
    "\n",
    "            # !! Maybe I have to adjust this below q\n",
    "            # Three labels are multipolygons in our case: wall, roof and sky\n",
    "#             if(category_id == 2 or category_id == 5 or category_id == 6):\n",
    "#                 # Combine the polygons to calculate the bounding box and area\n",
    "#                 multi_poly = MultiPolygon(polygons)\n",
    "                                \n",
    "#                 annotation = create_annotation_format(multi_poly, segmentations, image_id, category_id, annotation_id)\n",
    "\n",
    "#                 annotations.append(annotation)\n",
    "#                 annotation_id += 1\n",
    "#             else:\n",
    "#                 for i in range(len(polygons)):\n",
    "#                     # Cleaner to recalculate this variable\n",
    "#                     segmentation = [np.array(polygons[i].exterior.coords).ravel().tolist()]\n",
    "                    \n",
    "#                     annotation = create_annotation_format(polygons[i], segmentation, image_id, category_id, annotation_id)\n",
    "                    \n",
    "#                     annotations.append(annotation)\n",
    "#                     annotation_id += 1\n",
    "            for i in range(len(polygons)):\n",
    "                # Cleaner to recalculate this variable\n",
    "                segmentation = [np.array(polygons[i].exterior.coords).ravel().tolist()]\n",
    "\n",
    "                annotation = create_annotation_format(polygons[i], segmentation, image_id, category_id, annotation_id)\n",
    "\n",
    "                annotations.append(annotation)\n",
    "                annotation_id += 1\n",
    "\n",
    "    return images, annotations\n",
    "\n",
    "if __name__ == '__main__':\n",
    "#     for keyword in ['train', 'val']:\n",
    "#         mask_path = 'dataset/{}_mask'.format(keyword)\n",
    "#         coco_format['images'], coco_format['annotations'] = images_annotations_info(mask_path)\n",
    "#         #print(json.dumps(coco_format))\n",
    "#         with open('output/{}.json'.format(keyword),'w') as outfile:\n",
    "#             json.dump(coco_format, outfile)\n",
    "    mask_path = '../Chevron-Training/data/exported_data/sub_masks'\n",
    "    coco_format['images'], coco_format['annotations'] = images_annotations_info(mask_path)\n",
    "    with open('output/all.json','w') as outfile:\n",
    "            json.dump(coco_format, outfile)\n",
    "    "
   ]
  },
  {
   "cell_type": "code",
   "execution_count": null,
   "metadata": {},
   "outputs": [],
   "source": []
  },
  {
   "cell_type": "code",
   "execution_count": null,
   "metadata": {},
   "outputs": [],
   "source": []
  },
  {
   "cell_type": "code",
   "execution_count": null,
   "metadata": {},
   "outputs": [],
   "source": []
  },
  {
   "cell_type": "code",
   "execution_count": null,
   "metadata": {},
   "outputs": [],
   "source": []
  },
  {
   "cell_type": "code",
   "execution_count": null,
   "metadata": {},
   "outputs": [],
   "source": []
  },
  {
   "cell_type": "code",
   "execution_count": null,
   "metadata": {},
   "outputs": [],
   "source": []
  },
  {
   "cell_type": "code",
   "execution_count": 13,
   "metadata": {},
   "outputs": [
    {
     "data": {
      "text/plain": [
       "0"
      ]
     },
     "execution_count": 13,
     "metadata": {},
     "output_type": "execute_result"
    }
   ],
   "source": [
    "img = Image.open('../Chevron-Training/data/exported_data/sub_masks/0_0_-1.png')\n",
    "img.getpixel((0, 0))"
   ]
  },
  {
   "cell_type": "code",
   "execution_count": null,
   "metadata": {},
   "outputs": [],
   "source": []
  }
 ],
 "metadata": {
  "kernelspec": {
   "display_name": "Python 3",
   "language": "python",
   "name": "python3"
  },
  "language_info": {
   "codemirror_mode": {
    "name": "ipython",
    "version": 3
   },
   "file_extension": ".py",
   "mimetype": "text/x-python",
   "name": "python",
   "nbconvert_exporter": "python",
   "pygments_lexer": "ipython3",
   "version": "3.8.3"
  }
 },
 "nbformat": 4,
 "nbformat_minor": 4
}
